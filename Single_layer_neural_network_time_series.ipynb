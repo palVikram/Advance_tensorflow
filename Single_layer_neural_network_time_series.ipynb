{
  "cells": [
    {
      "cell_type": "markdown",
      "metadata": {
        "id": "view-in-github",
        "colab_type": "text"
      },
      "source": [
        "<a href=\"https://colab.research.google.com/github/palVikram/Advance_tensorflow/blob/main/Single_layer_neural_network_time_series.ipynb\" target=\"_parent\"><img src=\"https://colab.research.google.com/assets/colab-badge.svg\" alt=\"Open In Colab\"/></a>"
      ]
    },
    {
      "cell_type": "code",
      "source": [
        "import tensorflow as tf "
      ],
      "metadata": {
        "id": "jJ2gJ3hRzZNI",
        "outputId": "89931626-e106-4e27-976a-b41877d67919",
        "colab": {
          "base_uri": "https://localhost:8080/"
        }
      },
      "execution_count": 1,
      "outputs": [
        {
          "output_type": "execute_result",
          "data": {
            "text/plain": [
              "<RangeDataset element_spec=TensorSpec(shape=(), dtype=tf.int64, name=None)>"
            ]
          },
          "metadata": {},
          "execution_count": 1
        }
      ]
    },
    {
      "cell_type": "code",
      "source": [
        "\n",
        "dataset=tf.data.Dataset.range(10)\n",
        "dataset=dataset.window(5, shift=1, drop_remainder=True)\n",
        "dataset=dataset.flat_map(lambda window: window.batch(5))\n",
        "dataset=dataset.map(lambda window: (window[:-1], window[-1:]))\n",
        "dataset=dataset.shuffle(buffer_size=10)\n",
        "dataset=dataset.batch(2).prefetch(1)"
      ],
      "metadata": {
        "id": "5Qjbxcv6zm0_"
      },
      "execution_count": 23,
      "outputs": []
    },
    {
      "cell_type": "code",
      "source": [
        "for x,y in dataset:\n",
        "  print(\"x=\", x.numpy())\n",
        "  print(\"y=\", y.numpy())"
      ],
      "metadata": {
        "id": "WRdHYYrLzvf9",
        "outputId": "52820653-ad5b-49a5-f2f5-0d4e6d944563",
        "colab": {
          "base_uri": "https://localhost:8080/"
        }
      },
      "execution_count": 24,
      "outputs": [
        {
          "output_type": "stream",
          "name": "stdout",
          "text": [
            "x= [[2 3 4 5]\n",
            " [1 2 3 4]]\n",
            "y= [[6]\n",
            " [5]]\n",
            "x= [[4 5 6 7]\n",
            " [5 6 7 8]]\n",
            "y= [[8]\n",
            " [9]]\n",
            "x= [[0 1 2 3]\n",
            " [3 4 5 6]]\n",
            "y= [[4]\n",
            " [7]]\n"
          ]
        }
      ]
    },
    {
      "cell_type": "code",
      "source": [
        "def trend(time, slope=0):\n",
        "    return slope * time\n",
        "\n",
        "def seasonal_pattern(season_time):\n",
        "    \"\"\"Just an arbitrary pattern, you can change it if you wish\"\"\"\n",
        "    return np.where(season_time < 0.4,\n",
        "                    np.cos(season_time * 2 * np.pi),\n",
        "                    1 / np.exp(3 * season_time))\n",
        "    \n",
        "def seasonality(time, period, amplitude=1, phase=0):\n",
        "    \"\"\"Repeats the same pattern at each period\"\"\"\n",
        "    season_time = ((time + phase) % period) / period\n",
        "    return amplitude * seasonal_pattern(season_time)\n",
        "\n",
        "def noise(time, noise_level=1, seed=None):\n",
        "    rnd = np.random.RandomState(seed)\n",
        "    return rnd.randn(len(time)) * noise_level"
      ],
      "metadata": {
        "id": "PFPGpgnR5FOb"
      },
      "execution_count": 29,
      "outputs": []
    },
    {
      "cell_type": "code",
      "source": [
        "import numpy as np\n",
        "time = np.arange(4 * 365 + 1, dtype=\"float32\")\n",
        "baseline = 10\n",
        "series = trend(time, 0.1)  \n",
        "baseline = 10\n",
        "amplitude = 40\n",
        "slope = 0.05\n",
        "noise_level = 5\n",
        "\n",
        "# Create the series\n",
        "series = baseline + trend(time, slope) + seasonality(time, period=365, amplitude=amplitude)\n",
        "# Update with noise\n",
        "series += noise(time, noise_level, seed=42)"
      ],
      "metadata": {
        "id": "LwvDW8Pc5AHI"
      },
      "execution_count": 30,
      "outputs": []
    },
    {
      "cell_type": "code",
      "source": [
        "import matplotlib.pyplot as plt\n",
        "def plot_series(time, series, format=\"-\", start=0, end=None):\n",
        "    plt.plot(time[start:end], series[start:end], format)\n",
        "    plt.xlabel(\"Time\")\n",
        "    plt.ylabel(\"Value\")\n",
        "    plt.grid(True)"
      ],
      "metadata": {
        "id": "62rzxcdu5p_G"
      },
      "execution_count": 31,
      "outputs": []
    },
    {
      "cell_type": "code",
      "source": [
        "plot_series(time, series)"
      ],
      "metadata": {
        "id": "nPptzEU07baY",
        "outputId": "c416b29b-ee7f-4605-c06c-19ec86c9286a",
        "colab": {
          "base_uri": "https://localhost:8080/",
          "height": 279
        }
      },
      "execution_count": 32,
      "outputs": [
        {
          "output_type": "display_data",
          "data": {
            "text/plain": [
              "<Figure size 432x288 with 1 Axes>"
            ],
            "image/png": "[encoded data removed]"
          },
          "metadata": {
            "needs_background": "light"
          }
        }
      ]
    },
    {
      "cell_type": "code",
      "source": [
        "def windowed_dataset(series, window_size, batch_size, shuffle_buffer):\n",
        "  dataset=tf.data.Dataset.from_tensor_slices(series)\n",
        "  dataset=dataset.window(window_size+1, shift=1, drop_remainder=True)\n",
        "  dataset=dataset.flat_map(lambda window: window.batch(window_size+1))\n",
        "  dataset=dataset.map(lambda window: (window[:-1], window[-1:]))\n",
        "  dataset=dataset.shuffle(buffer_size=shuffle_buffer)\n",
        "  dataset=dataset.batch(batch_size).prefetch(1)\n",
        "\n",
        "  return dataset"
      ],
      "metadata": {
        "id": "1nV3EpU60z-2"
      },
      "execution_count": 25,
      "outputs": []
    },
    {
      "cell_type": "code",
      "source": [
        "window_size=20\n",
        "batch_size=32\n",
        "shuffle_buffer_size=1000"
      ],
      "metadata": {
        "id": "o3PMX14M3u1U"
      },
      "execution_count": 33,
      "outputs": []
    },
    {
      "cell_type": "code",
      "source": [
        "split_time = 1000\n",
        "time_train = time[:split_time]\n",
        "x_train = series[:split_time]\n",
        "time_valid = time[split_time:]\n",
        "x_valid = series[split_time:]\n",
        "\n",
        "dataset=windowed_dataset(x_train, window_size, batch_size, shuffle_buffer_size)"
      ],
      "metadata": {
        "id": "oiX7XuQW7lId"
      },
      "execution_count": 34,
      "outputs": []
    },
    {
      "cell_type": "code",
      "source": [
        "l0=tf.keras.layers.Dense(1, input_shape=[window_size])\n",
        "model=tf.keras.models.Sequential(l0)\n",
        "\n",
        "model.compile(loss='mse',\n",
        "              optimizer=tf.keras.optimizers.SGD(learning_rate=1e-6, momentum=0.9)\n",
        "              )\n",
        "\n",
        "model.fit(dataset, epochs=100,verbose=0)\n",
        "\n",
        "print(l0.get_weights())\n"
      ],
      "metadata": {
        "id": "J8UxUwX-7xNL",
        "outputId": "7b03e78f-024a-450a-f9a8-80419f8a5644",
        "colab": {
          "base_uri": "https://localhost:8080/"
        }
      },
      "execution_count": 37,
      "outputs": [
        {
          "output_type": "stream",
          "name": "stdout",
          "text": [
            "[array([[-6.5072395e-02],\n",
            "       [ 3.5720598e-02],\n",
            "       [-1.2298353e-02],\n",
            "       [-9.7439028e-03],\n",
            "       [ 6.4955778e-02],\n",
            "       [ 3.0427253e-02],\n",
            "       [-1.5386700e-02],\n",
            "       [-2.3968494e-04],\n",
            "       [-3.0355299e-02],\n",
            "       [ 2.0948919e-02],\n",
            "       [-2.4287950e-03],\n",
            "       [-5.3659175e-02],\n",
            "       [ 3.4735300e-02],\n",
            "       [ 4.5373466e-02],\n",
            "       [ 3.9406098e-02],\n",
            "       [ 3.3991931e-03],\n",
            "       [ 2.4333175e-02],\n",
            "       [ 1.2056547e-01],\n",
            "       [ 3.7662607e-01],\n",
            "       [ 4.0956709e-01]], dtype=float32), array([0.0179423], dtype=float32)]\n"
          ]
        }
      ]
    },
    {
      "cell_type": "code",
      "source": [
        "print(series[1:21])\n",
        "model.predict(series[1:21][np.newaxis])"
      ],
      "metadata": {
        "id": "Gs6e-1iC9gvl",
        "outputId": "42b73a9b-442b-462a-a287-b3241052a4a5",
        "colab": {
          "base_uri": "https://localhost:8080/"
        }
      },
      "execution_count": 38,
      "outputs": [
        {
          "output_type": "stream",
          "name": "stdout",
          "text": [
            "[49.35275  53.314735 57.711823 48.934444 48.931244 57.982895 53.897125\n",
            " 47.67393  52.68371  47.591717 47.506374 50.959415 40.086178 40.919415\n",
            " 46.612473 44.228207 50.720642 44.454983 41.76799  55.980938]\n"
          ]
        },
        {
          "output_type": "execute_result",
          "data": {
            "text/plain": [
              "array([[48.66316]], dtype=float32)"
            ]
          },
          "metadata": {},
          "execution_count": 38
        }
      ]
    },
    {
      "cell_type": "code",
      "source": [
        "forecast=[]\n",
        "\n",
        "for time in range(len(series)-window_size):\n",
        "  forecast.append(model.predict(series[time:time+ window_size][np.newaxis]))\n",
        "\n",
        "forecast=forecast[split_time-window_size:]\n",
        "\n",
        "results=np.array(forecast)[:,0,0]"
      ],
      "metadata": {
        "id": "p8l-5LPZ8cHn"
      },
      "execution_count": 39,
      "outputs": []
    },
    {
      "cell_type": "code",
      "source": [
        "plot_series(time_valid, x_valid)\n",
        "plot_series(time_valid, results)"
      ],
      "metadata": {
        "id": "8c2ntxRz_Xwz",
        "outputId": "e1faf8be-8d05-4fb8-f5e8-2868b58b59c0",
        "colab": {
          "base_uri": "https://localhost:8080/",
          "height": 279
        }
      },
      "execution_count": 40,
      "outputs": [
        {
          "output_type": "display_data",
          "data": {
            "text/plain": [
              "<Figure size 432x288 with 1 Axes>"
            ],
            "image/png": "[encoded data removed]"
          },
          "metadata": {
            "needs_background": "light"
          }
        }
      ]
    },
    {
      "cell_type": "code",
      "source": [
        "tf.keras.metrics.mean_absolute_error(x_valid, results).numpy()"
      ],
      "metadata": {
        "id": "ArtAYLmx_iSX",
        "outputId": "683adb67-63a0-4bbe-f18b-b9d7b62b934b",
        "colab": {
          "base_uri": "https://localhost:8080/"
        }
      },
      "execution_count": 41,
      "outputs": [
        {
          "output_type": "execute_result",
          "data": {
            "text/plain": [
              "5.1915965"
            ]
          },
          "metadata": {},
          "execution_count": 41
        }
      ]
    },
    {
      "cell_type": "code",
      "source": [
        ""
      ],
      "metadata": {
        "id": "kqOkd3p5_jho"
      },
      "execution_count": null,
      "outputs": []
    }
  ],
  "metadata": {
    "colab": {
      "collapsed_sections": [],
      "name": "Welcome To Colaboratory",
      "provenance": [],
      "include_colab_link": true
    },
    "kernelspec": {
      "display_name": "Python 3",
      "name": "python3"
    },
    "accelerator": "GPU"
  },
  "nbformat": 4,
  "nbformat_minor": 0
}