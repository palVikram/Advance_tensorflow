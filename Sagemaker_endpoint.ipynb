{
 "cells": [
  {
   "cell_type": "raw",
   "id": "faa4fc31",
   "metadata": {},
   "source": [
    "ADD \n",
    "{\n",
    "    \"Version\": \"2012-10-17\",\n",
    "    \"Statement\": [\n",
    "        {\n",
    "            \"Effect\": \"Allow\",\n",
    "            \"Action\": [\n",
    "                \"ecr:GetAuthorizationToken\",\n",
    "                \"ecr:BatchCheckLayerAvailability\",\n",
    "                \"ecr:GetDownloadUrlForLayer\",\n",
    "                \"ecr:InitiateLayerUpload\",\n",
    "                \"ecr:UploadLayerPart\",\n",
    "                \"ecr:CompleteLayerUpload\",\n",
    "                \"ecr:PutImage\"\n",
    "            ],\n",
    "            \"Resource\": \"*\"\n",
    "        }\n",
    "    ]\n",
    "}\n",
    "AmazonSageMakerServiceCatalogProductsUseRole\n",
    "\n",
    "login: $(aws ecr get-login --no-include-email --region your-region)"
   ]
  },
  {
   "cell_type": "raw",
   "id": "41f8752f",
   "metadata": {},
   "source": [
    "# Use the official Python image as base\n",
    "FROM python:3.8-slim\n",
    "\n",
    "# Set environment variables\n",
    "ENV PYTHONDONTWRITEBYTECODE 1\n",
    "ENV PYTHONUNBUFFERED 1\n",
    "\n",
    "# Set the working directory in the container\n",
    "WORKDIR /app\n",
    "\n",
    "\n",
    "# Install Flask\n",
    "RUN pip install --no-cache-dir Flask==2.0.1 Werkzeug==2.0.2\n",
    "\n",
    "# Copy the current directory contents into the container at /app\n",
    "COPY . .\n",
    "\n",
    "# Expose port 5000\n",
    "EXPOSE 8080\n",
    "\n",
    "ENTRYPOINT [\"python\", \"app.py\"]\n",
    "\n"
   ]
  },
  {
   "cell_type": "code",
   "execution_count": null,
   "id": "0939f274",
   "metadata": {},
   "outputs": [],
   "source": []
  },
  {
   "cell_type": "code",
   "execution_count": null,
   "id": "5aefcdd3",
   "metadata": {},
   "outputs": [],
   "source": [
    "import boto3\n",
    "from sagemaker import get_execution_role\n",
    "\n",
    "sm_client = boto3.client(service_name='sagemaker')\n",
    "runtime_sm_client = boto3.client(service_name='sagemaker-runtime')\n",
    "\n",
    "account_id = boto3.client('sts').get_caller_identity()['Account']\n",
    "region = boto3.Session().region_name\n",
    "\n",
    "role = get_execution_role()"
   ]
  },
  {
   "cell_type": "code",
   "execution_count": 2,
   "id": "9b58e28f",
   "metadata": {},
   "outputs": [
    {
     "name": "stdout",
     "output_type": "stream",
     "text": [
      "Model name: vllm\n",
      "Container image: 101840641443.dkr.ecr.us-east-1.amazonaws.com/vllm:latest\n",
      "Model Arn: arn:aws:sagemaker:us-east-1:101840641443:model/vllm\n"
     ]
    }
   ],
   "source": [
    "from time import gmtime, strftime\n",
    "\n",
    "model_name = 'vllm'\n",
    "\n",
    "container = '101840641443.dkr.ecr.us-east-1.amazonaws.com/vllm:latest'\n",
    "instance_type = 'ml.c5d.18xlarge'\n",
    "\n",
    "print('Model name: ' + model_name)\n",
    "#print('Model data Url: ' + model_url)\n",
    "print('Container image: ' + container)\n",
    "\n",
    "container = {\n",
    "'Image': container\n",
    "}\n",
    "\n",
    "create_model_response = sm_client.create_model(\n",
    "    ModelName = model_name,\n",
    "    ExecutionRoleArn = role,\n",
    "    Containers = [container])\n",
    "\n",
    "print(\"Model Arn: \" + create_model_response['ModelArn'])"
   ]
  },
  {
   "cell_type": "code",
   "execution_count": 3,
   "id": "4b8da34b",
   "metadata": {},
   "outputs": [
    {
     "name": "stdout",
     "output_type": "stream",
     "text": [
      "Endpoint config name: vllm-config2024-04-02-16-41-56\n",
      "Endpoint config Arn: arn:aws:sagemaker:us-east-1:101840641443:endpoint-config/vllm-config2024-04-02-16-41-56\n"
     ]
    }
   ],
   "source": [
    "endpoint_config_name = 'vllm-config' + strftime(\"%Y-%m-%d-%H-%M-%S\", gmtime())\n",
    "print('Endpoint config name: ' + endpoint_config_name)\n",
    "\n",
    "create_endpoint_config_response = sm_client.create_endpoint_config(\n",
    "    EndpointConfigName = endpoint_config_name,\n",
    "    ProductionVariants=[{\n",
    "        'InstanceType': instance_type,\n",
    "        'InitialInstanceCount': 1,\n",
    "        'InitialVariantWeight': 1,\n",
    "        'ModelName': model_name,\n",
    "        'VariantName': 'AllTraffic'}])\n",
    "        \n",
    "print(\"Endpoint config Arn: \" + create_endpoint_config_response['EndpointConfigArn'])"
   ]
  },
  {
   "cell_type": "code",
   "execution_count": null,
   "id": "ca68557d",
   "metadata": {},
   "outputs": [
    {
     "name": "stdout",
     "output_type": "stream",
     "text": [
      "Endpoint name: vllm-endpoint-org2024-04-02-16-42-01\n",
      "Endpoint Arn: arn:aws:sagemaker:us-east-1:101840641443:endpoint/vllm-endpoint-org2024-04-02-16-42-01\n",
      "Endpoint Status: Creating\n",
      "Waiting for vllm-endpoint-org2024-04-02-16-42-01 endpoint to be in service...\n"
     ]
    }
   ],
   "source": [
    "%%time\n",
    "\n",
    "import time\n",
    "\n",
    "endpoint_name = 'vllm-endpoint-org' + strftime(\"%Y-%m-%d-%H-%M-%S\", gmtime())\n",
    "print('Endpoint name: ' + endpoint_name)\n",
    "\n",
    "create_endpoint_response = sm_client.create_endpoint(\n",
    "    EndpointName=endpoint_name,\n",
    "    EndpointConfigName=endpoint_config_name)\n",
    "print('Endpoint Arn: ' + create_endpoint_response['EndpointArn'])\n",
    "\n",
    "resp = sm_client.describe_endpoint(EndpointName=endpoint_name)\n",
    "status = resp['EndpointStatus']\n",
    "print(\"Endpoint Status: \" + status)\n",
    "\n",
    "print('Waiting for {} endpoint to be in service...'.format(endpoint_name))\n",
    "waiter = sm_client.get_waiter('endpoint_in_service')\n",
    "waiter.wait(EndpointName=endpoint_name)\n"
   ]
  },
  {
   "cell_type": "code",
   "execution_count": null,
   "id": "6d5d0bd9",
   "metadata": {},
   "outputs": [],
   "source": [
    "import json\n",
    "content_type = \"application/json\"\n",
    "request_body = {\"input\": \"This is a test with NER in America with \\\n",
    "    Amazon and Microsoft in Seattle, writing random stuff.\"}\n",
    "\n",
    "#Serialize data for endpoint\n",
    "#data = json.loads(json.dumps(request_body))\n",
    "payload = json.dumps(request_body)\n",
    "\n",
    "#Endpoint invocation\n",
    "response = runtime_sm_client.invoke_endpoint(\n",
    "EndpointName=endpoint_name,\n",
    "ContentType=content_type,\n",
    "Body=payload)\n",
    "\n",
    "#Parse results\n",
    "result = json.loads(response['Body'].read().decode())['output']\n",
    "result"
   ]
  },
  {
   "cell_type": "code",
   "execution_count": null,
   "id": "4a7a6c56",
   "metadata": {},
   "outputs": [],
   "source": []
  },
  {
   "cell_type": "code",
   "execution_count": null,
   "id": "620229dd",
   "metadata": {},
   "outputs": [],
   "source": [
    "import requests\n",
    "\n",
    "# Define the base URL of your Flask API\n",
    "base_url = 'http://localhost:5000/'\n",
    "\n",
    "def test_get_request():\n",
    "    # Make a GET request to the base URL\n",
    "    response = requests.get(base_url)\n",
    "    \n",
    "    # Print the response content\n",
    "    print(\"GET Request Response:\")\n",
    "    print(response.text)\n",
    "\n",
    "if __name__ == \"__main__\":\n",
    "    # Test GET request\n",
    "    test_get_request()\n",
    "    \n",
    "\n"
   ]
  },
  {
   "cell_type": "code",
   "execution_count": null,
   "id": "ee81af17",
   "metadata": {},
   "outputs": [],
   "source": [
    "import json\n",
    "content_type = \"application/json\"\n",
    "request_body = {\"input\": \"This is a test with NER in America with \\\n",
    "    Amazon and Microsoft in Seattle, writing random stuff.\"}\n",
    "\n",
    "#Serialize data for endpoint\n",
    "#data = json.loads(json.dumps(request_body))\n",
    "payload = json.dumps(request_body)\n",
    "\n",
    "#Endpoint invocation\n",
    "response = runtime_sm_client.invoke_endpoint(\n",
    "EndpointName=endpoint_name,\n",
    "ContentType=content_type)\n",
    "\n",
    "#Parse results\n",
    "result = json.loads(response['Body'].read().decode())['output']\n",
    "result"
   ]
  },
  {
   "cell_type": "code",
   "execution_count": null,
   "id": "735feeee",
   "metadata": {},
   "outputs": [],
   "source": []
  }
 ],
 "metadata": {
  "kernelspec": {
   "display_name": "conda_tensorflow2_p310",
   "language": "python",
   "name": "conda_tensorflow2_p310"
  },
  "language_info": {
   "codemirror_mode": {
    "name": "ipython",
    "version": 3
   },
   "file_extension": ".py",
   "mimetype": "text/x-python",
   "name": "python",
   "nbconvert_exporter": "python",
   "pygments_lexer": "ipython3",
   "version": "3.10.13"
  }
 },
 "nbformat": 4,
 "nbformat_minor": 5
}
