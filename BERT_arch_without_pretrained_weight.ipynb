{
  "nbformat": 4,
  "nbformat_minor": 0,
  "metadata": {
    "colab": {
      "provenance": [],
      "authorship_tag": "ABX9TyOuv3nPZtJ0eWri1d7ZAC0j",
      "include_colab_link": true
    },
    "kernelspec": {
      "name": "python3",
      "display_name": "Python 3"
    },
    "language_info": {
      "name": "python"
    }
  },
  "cells": [
    {
      "cell_type": "markdown",
      "metadata": {
        "id": "view-in-github",
        "colab_type": "text"
      },
      "source": [
        "<a href=\"https://colab.research.google.com/github/palVikram/Advance_tensorflow/blob/main/BERT_arch_without_pretrained_weight.ipynb\" target=\"_parent\"><img src=\"https://colab.research.google.com/assets/colab-badge.svg\" alt=\"Open In Colab\"/></a>"
      ]
    },
    {
      "cell_type": "code",
      "execution_count": null,
      "metadata": {
        "id": "kz_i-O632l_V"
      },
      "outputs": [],
      "source": []
    },
    {
      "cell_type": "code",
      "source": [
        "!pip install transformers"
      ],
      "metadata": {
        "colab": {
          "base_uri": "https://localhost:8080/"
        },
        "id": "oOi8YJSM2_wU",
        "outputId": "401ade20-625a-4334-91d1-ecced377ca00"
      },
      "execution_count": 1,
      "outputs": [
        {
          "output_type": "stream",
          "name": "stdout",
          "text": [
            "Collecting transformers\n",
            "  Downloading transformers-4.31.0-py3-none-any.whl (7.4 MB)\n",
            "\u001b[2K     \u001b[90m━━━━━━━━━━━━━━━━━━━━━━━━━━━━━━━━━━━━━━━━\u001b[0m \u001b[32m7.4/7.4 MB\u001b[0m \u001b[31m17.3 MB/s\u001b[0m eta \u001b[36m0:00:00\u001b[0m\n",
            "\u001b[?25hRequirement already satisfied: filelock in /usr/local/lib/python3.10/dist-packages (from transformers) (3.12.2)\n",
            "Collecting huggingface-hub<1.0,>=0.14.1 (from transformers)\n",
            "  Downloading huggingface_hub-0.16.4-py3-none-any.whl (268 kB)\n",
            "\u001b[2K     \u001b[90m━━━━━━━━━━━━━━━━━━━━━━━━━━━━━━━━━━━━━━\u001b[0m \u001b[32m268.8/268.8 kB\u001b[0m \u001b[31m10.0 MB/s\u001b[0m eta \u001b[36m0:00:00\u001b[0m\n",
            "\u001b[?25hRequirement already satisfied: numpy>=1.17 in /usr/local/lib/python3.10/dist-packages (from transformers) (1.22.4)\n",
            "Requirement already satisfied: packaging>=20.0 in /usr/local/lib/python3.10/dist-packages (from transformers) (23.1)\n",
            "Requirement already satisfied: pyyaml>=5.1 in /usr/local/lib/python3.10/dist-packages (from transformers) (6.0.1)\n",
            "Requirement already satisfied: regex!=2019.12.17 in /usr/local/lib/python3.10/dist-packages (from transformers) (2022.10.31)\n",
            "Requirement already satisfied: requests in /usr/local/lib/python3.10/dist-packages (from transformers) (2.27.1)\n",
            "Collecting tokenizers!=0.11.3,<0.14,>=0.11.1 (from transformers)\n",
            "  Downloading tokenizers-0.13.3-cp310-cp310-manylinux_2_17_x86_64.manylinux2014_x86_64.whl (7.8 MB)\n",
            "\u001b[2K     \u001b[90m━━━━━━━━━━━━━━━━━━━━━━━━━━━━━━━━━━━━━━━━\u001b[0m \u001b[32m7.8/7.8 MB\u001b[0m \u001b[31m60.7 MB/s\u001b[0m eta \u001b[36m0:00:00\u001b[0m\n",
            "\u001b[?25hCollecting safetensors>=0.3.1 (from transformers)\n",
            "  Downloading safetensors-0.3.1-cp310-cp310-manylinux_2_17_x86_64.manylinux2014_x86_64.whl (1.3 MB)\n",
            "\u001b[2K     \u001b[90m━━━━━━━━━━━━━━━━━━━━━━━━━━━━━━━━━━━━━━━━\u001b[0m \u001b[32m1.3/1.3 MB\u001b[0m \u001b[31m49.6 MB/s\u001b[0m eta \u001b[36m0:00:00\u001b[0m\n",
            "\u001b[?25hRequirement already satisfied: tqdm>=4.27 in /usr/local/lib/python3.10/dist-packages (from transformers) (4.65.0)\n",
            "Requirement already satisfied: fsspec in /usr/local/lib/python3.10/dist-packages (from huggingface-hub<1.0,>=0.14.1->transformers) (2023.6.0)\n",
            "Requirement already satisfied: typing-extensions>=3.7.4.3 in /usr/local/lib/python3.10/dist-packages (from huggingface-hub<1.0,>=0.14.1->transformers) (4.7.1)\n",
            "Requirement already satisfied: urllib3<1.27,>=1.21.1 in /usr/local/lib/python3.10/dist-packages (from requests->transformers) (1.26.16)\n",
            "Requirement already satisfied: certifi>=2017.4.17 in /usr/local/lib/python3.10/dist-packages (from requests->transformers) (2023.7.22)\n",
            "Requirement already satisfied: charset-normalizer~=2.0.0 in /usr/local/lib/python3.10/dist-packages (from requests->transformers) (2.0.12)\n",
            "Requirement already satisfied: idna<4,>=2.5 in /usr/local/lib/python3.10/dist-packages (from requests->transformers) (3.4)\n",
            "Installing collected packages: tokenizers, safetensors, huggingface-hub, transformers\n",
            "Successfully installed huggingface-hub-0.16.4 safetensors-0.3.1 tokenizers-0.13.3 transformers-4.31.0\n"
          ]
        }
      ]
    },
    {
      "cell_type": "code",
      "source": [
        "import tensorflow as tf\n",
        "from tensorflow.keras.layers import Input, Dense, LayerNormalization\n",
        "from tensorflow.keras.models import Model\n",
        "from transformers import BertConfig, TFBertMainLayer\n",
        "\n",
        "# Configuration for BERT\n",
        "config = BertConfig(\n",
        "    vocab_size=10000, # Usually, BERT base uses 30522 vocabulary size\n",
        "    hidden_size=768, # Size of the encoder layers\n",
        "    num_hidden_layers=12, # Number of hidden layers in the Transformer encoder\n",
        "    num_attention_heads=12, # Number of attention heads for each attention layer in the Transformer encoder\n",
        "    intermediate_size=1024, # Size of the \"intermediate\" layer in the Transformer encoder\n",
        "    hidden_act=\"gelu\", # Activation function to use\n",
        "    hidden_dropout_prob=0.1, # Dropout probability for all fully connected layers in the embeddings and pooler\n",
        "    attention_probs_dropout_prob=0.1, # Dropout probability for all fully connected layers in the embeddings and pooler\n",
        "    max_position_embeddings=512, # Maximum sequence length that this model might ever be used with\n",
        "    type_vocab_size=2, # Vocabulary size of the `token_type_ids` passed into `BertModel`.\n",
        "    initializer_range=0.02, # The standard deviation of the truncated_normal_initializer for initializing all weight matrices\n",
        ")\n",
        "\n",
        "# Define the BERT main layer\n",
        "bert = TFBertMainLayer(config=config, name=\"bert\")"
      ],
      "metadata": {
        "id": "AHEAORrE3Byi"
      },
      "execution_count": 26,
      "outputs": []
    },
    {
      "cell_type": "code",
      "source": [
        "# Define inputs\n",
        "input_ids = Input(shape=(None,), dtype=tf.int32, name=\"input_ids\")\n",
        "attention_mask = Input(shape=(None,), dtype=tf.int32, name=\"attention_mask\")\n",
        "token_type_ids = Input(shape=(None,), dtype=tf.int32, name=\"token_type_ids\")\n",
        "\n",
        "# Get BERT main layer output\n",
        "BERT_outputs = bert.call(input_ids, attention_mask, token_type_ids)"
      ],
      "metadata": {
        "id": "ik7ofBQc3L6R"
      },
      "execution_count": 27,
      "outputs": []
    },
    {
      "cell_type": "code",
      "source": [
        "pooler_output=BERT_outputs.pooler_output"
      ],
      "metadata": {
        "id": "xPlQ2_ou3WH4"
      },
      "execution_count": 28,
      "outputs": []
    },
    {
      "cell_type": "code",
      "source": [
        "sequence_output=BERT_outputs.last_hidden_state"
      ],
      "metadata": {
        "id": "f1A1O9_G4Zwy"
      },
      "execution_count": 29,
      "outputs": []
    },
    {
      "cell_type": "code",
      "source": [
        "\n",
        "output = tf.keras.layers.Dense(3, activation=\"softmax\")(pooler_output)\n",
        "model = tf.keras.models.Model(\n",
        "    inputs=[input_ids, attention_mask, token_type_ids], outputs=output\n",
        ")\n",
        "\n",
        "model.compile(\n",
        "    optimizer=tf.keras.optimizers.Adam(),\n",
        "    loss=\"categorical_crossentropy\",\n",
        "    metrics=[\"acc\"],\n",
        ")"
      ],
      "metadata": {
        "id": "gUwUsrMq4uC5"
      },
      "execution_count": 30,
      "outputs": []
    },
    {
      "cell_type": "code",
      "source": [
        "model.summary()"
      ],
      "metadata": {
        "colab": {
          "base_uri": "https://localhost:8080/"
        },
        "id": "ZDUkxdsO5B3R",
        "outputId": "221f5933-d944-4f60-db3b-a8816748b431"
      },
      "execution_count": 31,
      "outputs": [
        {
          "output_type": "stream",
          "name": "stdout",
          "text": [
            "Model: \"model_3\"\n",
            "__________________________________________________________________________________________________\n",
            " Layer (type)                   Output Shape         Param #     Connected to                     \n",
            "==================================================================================================\n",
            " attention_mask (InputLayer)    [(None, None)]       0           []                               \n",
            "                                                                                                  \n",
            " tf.compat.v1.shape_5 (TFOpLamb  (2,)                0           ['attention_mask[0][0]']         \n",
            " da)                                                                                              \n",
            "                                                                                                  \n",
            " tf.__operators__.getitem_10 (S  ()                  0           ['tf.compat.v1.shape_5[0][0]']   \n",
            " licingOpLambda)                                                                                  \n",
            "                                                                                                  \n",
            " tf.__operators__.getitem_11 (S  ()                  0           ['tf.compat.v1.shape_5[0][0]']   \n",
            " licingOpLambda)                                                                                  \n",
            "                                                                                                  \n",
            " tf.reshape_2 (TFOpLambda)      (None, 1, 1, None)   0           ['attention_mask[0][0]',         \n",
            "                                                                  'tf.__operators__.getitem_10[0][\n",
            "                                                                 0]',                             \n",
            "                                                                  'tf.__operators__.getitem_11[0][\n",
            "                                                                 0]']                             \n",
            "                                                                                                  \n",
            " tf.cast_2 (TFOpLambda)         (None, 1, 1, None)   0           ['tf.reshape_2[0][0]']           \n",
            "                                                                                                  \n",
            " input_ids (InputLayer)         [(None, None)]       0           []                               \n",
            "                                                                                                  \n",
            " token_type_ids (InputLayer)    [(None, None)]       0           []                               \n",
            "                                                                                                  \n",
            " tf.math.subtract_2 (TFOpLambda  (None, 1, 1, None)  0           ['tf.cast_2[0][0]']              \n",
            " )                                                                                                \n",
            "                                                                                                  \n",
            " embeddings (TFBertEmbeddings)  (None, None, 768)    8076288     ['input_ids[0][0]',              \n",
            "                                                                  'token_type_ids[0][0]']         \n",
            "                                                                                                  \n",
            " tf.math.multiply_2 (TFOpLambda  (None, 1, 1, None)  0           ['tf.math.subtract_2[0][0]']     \n",
            " )                                                                                                \n",
            "                                                                                                  \n",
            " encoder (TFBertEncoder)        TFBaseModelOutputWi  47281152    ['embeddings[0][0]',             \n",
            "                                thPastAndCrossAtten               'tf.math.multiply_2[0][0]']     \n",
            "                                tions(last_hidden_s                                               \n",
            "                                tate=(None, None, 7                                               \n",
            "                                68),                                                              \n",
            "                                 past_key_values=No                                               \n",
            "                                ne, hidden_states=N                                               \n",
            "                                one, attentions=Non                                               \n",
            "                                e, cross_attentions                                               \n",
            "                                =None)                                                            \n",
            "                                                                                                  \n",
            " pooler (TFBertPooler)          (None, 768)          590592      ['encoder[0][0]']                \n",
            "                                                                                                  \n",
            " dense_3 (Dense)                (None, 3)            2307        ['pooler[0][0]']                 \n",
            "                                                                                                  \n",
            "==================================================================================================\n",
            "Total params: 55,950,339\n",
            "Trainable params: 55,950,339\n",
            "Non-trainable params: 0\n",
            "__________________________________________________________________________________________________\n"
          ]
        }
      ]
    },
    {
      "cell_type": "code",
      "source": [
        "33,310,851"
      ],
      "metadata": {
        "id": "3m3bpQ4b5EOa"
      },
      "execution_count": null,
      "outputs": []
    }
  ]
}