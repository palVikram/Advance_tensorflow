{
  "cells": [
    {
      "cell_type": "markdown",
      "metadata": {
        "id": "view-in-github",
        "colab_type": "text"
      },
      "source": [
        "<a href=\"https://colab.research.google.com/github/palVikram/Advance_tensorflow/blob/main/masked_language_modelling.ipynb\" target=\"_parent\"><img src=\"https://colab.research.google.com/assets/colab-badge.svg\" alt=\"Open In Colab\"/></a>"
      ]
    },
    {
      "cell_type": "code",
      "source": [
        "from transformers import BertTokenizer, BertModel\n",
        "\n",
        "# Load the BERT tokenizer\n",
        "tokenizer = BertTokenizer.from_pretrained(\"bert-base-uncased\")\n",
        "\n",
        "# Example text\n",
        "text = \"This is an example sentence.\"\n",
        "\n",
        "# Tokenize the text using BERT's BPE tokenizer\n",
        "tokens = tokenizer.tokenize(text)\n",
        "\n",
        "# Convert the tokens to their corresponding IDs\n",
        "input_ids = tokenizer.convert_tokens_to_ids(tokens)\n",
        "\n",
        "# Print the tokens and IDs\n",
        "print(\"Original Text:\", text)\n",
        "print(\"Tokens:\", tokens)\n",
        "print(\"Input IDs:\", input_ids)\n",
        "\n",
        "# Get the maximum length of the tokens allowed for the BERT model\n",
        "max_length = tokenizer.max_model_input_sizes[\"bert-base-uncased\"]\n",
        "print(\"Max Length for BERT model:\", max_length)\n",
        "\n",
        "# Truncate or pad the input_ids to match the BERT model's maximum input length\n",
        "input_ids = input_ids[:max_length - 2]  # Remove 2 for [CLS] and [SEP] tokens\n",
        "input_ids = [tokenizer.cls_token_id] + input_ids + [tokenizer.sep_token_id]\n",
        "attention_mask = [1] * len(input_ids)\n",
        "\n",
        "# Print the final input_ids and attention_mask after truncation/padding\n",
        "print(\"Final Input IDs:\", input_ids)\n",
        "print(\"Final Attention Mask:\", attention_mask)\n",
        "\n",
        "# Convert the input_ids and attention_mask into PyTorch tensors\n",
        "import torch\n",
        "\n",
        "input_ids = torch.tensor([input_ids])\n",
        "attention_mask = torch.tensor([attention_mask])\n",
        "\n",
        "# Load the BERT model\n",
        "model = BertModel.from_pretrained(\"bert-base-uncased\")\n",
        "\n",
        "# Pass the input_ids and attention_mask through the BERT model\n",
        "outputs = model(input_ids, attention_mask=attention_mask)\n",
        "\n",
        "# Get the output embeddings from the model\n",
        "embeddings = outputs.last_hidden_state\n",
        "print(\"Embeddings shape:\", embeddings.shape)\n"
      ],
      "metadata": {
        "id": "ee5CZ9Gk7YUx"
      },
      "execution_count": null,
      "outputs": []
    },
    {
      "cell_type": "code",
      "source": [],
      "metadata": {
        "id": "_8NtmE3IsDtx"
      },
      "execution_count": null,
      "outputs": []
    }
  ],
  "metadata": {
    "accelerator": "GPU",
    "colab": {
      "provenance": [],
      "machine_shape": "hm",
      "gpuType": "T4",
      "include_colab_link": true
    },
    "kernelspec": {
      "display_name": "Python 3",
      "name": "python3"
    },
    "language_info": {
      "codemirror_mode": {
        "name": "ipython",
        "version": 3
      },
      "file_extension": ".py",
      "mimetype": "text/x-python",
      "name": "python",
      "nbconvert_exporter": "python",
      "pygments_lexer": "ipython3",
      "version": "3.6.4"
    }
  },
  "nbformat": 4,
  "nbformat_minor": 0
}