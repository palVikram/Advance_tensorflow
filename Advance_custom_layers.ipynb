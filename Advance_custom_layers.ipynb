{
 "cells": [
  {
   "cell_type": "code",
   "execution_count": 1,
   "id": "6967b203",
   "metadata": {},
   "outputs": [],
   "source": [
    "import tensorflow as tf\n",
    "from tensorflow.keras import backend as K"
   ]
  },
  {
   "cell_type": "code",
   "execution_count": 2,
   "id": "7594d274",
   "metadata": {},
   "outputs": [
    {
     "name": "stdout",
     "output_type": "stream",
     "text": [
      "Downloading data from https://storage.googleapis.com/tensorflow/tf-keras-datasets/mnist.npz\n",
      "11493376/11490434 [==============================] - 0s 0us/step\n",
      "11501568/11490434 [==============================] - 0s 0us/step\n"
     ]
    }
   ],
   "source": [
    "mnist = tf.keras.datasets.mnist\n",
    "\n",
    "(x_train, y_train),(x_test, y_test) = mnist.load_data()\n",
    "x_train, x_test = x_train / 255.0, x_test / 255.0"
   ]
  },
  {
   "cell_type": "code",
   "execution_count": 7,
   "id": "4fe7cf68",
   "metadata": {},
   "outputs": [],
   "source": [
    "model=tf.keras.models.Sequential([tf.keras.layers.Flatten(input_shape=(28,28)),\n",
    "                                  tf.keras.layers.Dense(128),\n",
    "                                  tf.keras.layers.Lambda(lambda x: tf.abs(x)),\n",
    "                                  tf.keras.layers.Dense(10,activation='softmax')\n",
    "                                 ])"
   ]
  },
  {
   "cell_type": "code",
   "execution_count": 11,
   "id": "7e9f68f6",
   "metadata": {},
   "outputs": [
    {
     "name": "stdout",
     "output_type": "stream",
     "text": [
      "Epoch 1/5\n",
      "1875/1875 [==============================] - 3s 935us/step - loss: 0.2202 - accuracy: 0.9379\n",
      "Epoch 2/5\n",
      "1875/1875 [==============================] - 2s 841us/step - loss: 0.0928 - accuracy: 0.9723\n",
      "Epoch 3/5\n",
      "1875/1875 [==============================] - 2s 821us/step - loss: 0.0640 - accuracy: 0.9801\n",
      "Epoch 4/5\n",
      "1875/1875 [==============================] - 2s 810us/step - loss: 0.0495 - accuracy: 0.9845\n",
      "Epoch 5/5\n",
      "1875/1875 [==============================] - 1s 719us/step - loss: 0.0382 - accuracy: 0.9877\n",
      "313/313 [==============================] - 0s 520us/step - loss: 0.0901 - accuracy: 0.9747\n"
     ]
    },
    {
     "data": {
      "text/plain": [
       "[0.0900508314371109, 0.9746999740600586]"
      ]
     },
     "execution_count": 11,
     "metadata": {},
     "output_type": "execute_result"
    }
   ],
   "source": [
    "model.compile(optimizer='adam',\n",
    "             loss=\"sparse_categorical_crossentropy\",\n",
    "             metrics=['accuracy'])\n",
    "\n",
    "model.fit(x_train,y_train, epochs=5)\n",
    "model.evaluate(x_test,y_test)"
   ]
  },
  {
   "cell_type": "code",
   "execution_count": 17,
   "id": "c04c595b",
   "metadata": {},
   "outputs": [],
   "source": [
    "from keras import backend as k\n",
    "def custom_activation(x):\n",
    "    return k.maximum(0.1, x)\n",
    "    "
   ]
  },
  {
   "cell_type": "code",
   "execution_count": 18,
   "id": "f4b89c7c",
   "metadata": {},
   "outputs": [],
   "source": [
    "model=tf.keras.models.Sequential([tf.keras.layers.Flatten(input_shape=(28,28)),\n",
    "                                  tf.keras.layers.Dense(128),\n",
    "                                  tf.keras.layers.Lambda(custom_activation),\n",
    "                                  tf.keras.layers.Dense(10,activation='softmax')\n",
    "                                 ])"
   ]
  },
  {
   "cell_type": "code",
   "execution_count": 19,
   "id": "6aa9914a",
   "metadata": {},
   "outputs": [
    {
     "name": "stdout",
     "output_type": "stream",
     "text": [
      "Epoch 1/5\n",
      "1875/1875 [==============================] - 2s 695us/step - loss: 0.2645 - accuracy: 0.9242\n",
      "Epoch 2/5\n",
      "1875/1875 [==============================] - 1s 690us/step - loss: 0.1146 - accuracy: 0.9666\n",
      "Epoch 3/5\n",
      "1875/1875 [==============================] - 1s 680us/step - loss: 0.0792 - accuracy: 0.9764\n",
      "Epoch 4/5\n",
      "1875/1875 [==============================] - 1s 684us/step - loss: 0.0599 - accuracy: 0.9816\n",
      "Epoch 5/5\n",
      "1875/1875 [==============================] - 1s 683us/step - loss: 0.0452 - accuracy: 0.9862\n",
      "313/313 [==============================] - 0s 534us/step - loss: 0.0739 - accuracy: 0.9775\n"
     ]
    },
    {
     "data": {
      "text/plain": [
       "[0.0739113911986351, 0.9775000214576721]"
      ]
     },
     "execution_count": 19,
     "metadata": {},
     "output_type": "execute_result"
    }
   ],
   "source": [
    "model.compile(optimizer='adam',\n",
    "             loss=\"sparse_categorical_crossentropy\",\n",
    "             metrics=['accuracy'])\n",
    "\n",
    "model.fit(x_train,y_train, epochs=5)\n",
    "model.evaluate(x_test,y_test)"
   ]
  },
  {
   "cell_type": "code",
   "execution_count": 34,
   "id": "24ebb770",
   "metadata": {},
   "outputs": [],
   "source": [
    "# inherit from this base class\n",
    "from tensorflow.keras.layers import Layer\n",
    "\n",
    "class SimpleDense(Layer):\n",
    "\n",
    "    def __init__(self, units=32):\n",
    "        '''Initializes the instance attributes'''\n",
    "        super(SimpleDense, self).__init__()\n",
    "        self.units = units\n",
    "\n",
    "    def build(self, input_shape):\n",
    "        '''Create the state of the layer (weights)'''\n",
    "        # initialize the weights\n",
    "        w_init = tf.random_normal_initializer()\n",
    "        self.w = tf.Variable(name=\"kernel\",\n",
    "            initial_value=w_init(shape=(input_shape[-1], self.units),\n",
    "                                 dtype='float32'),\n",
    "            trainable=True)\n",
    "\n",
    "        # initialize the biases\n",
    "        b_init = tf.zeros_initializer()\n",
    "        self.b = tf.Variable(name=\"bias\",\n",
    "            initial_value=b_init(shape=(self.units,), dtype='float32'),\n",
    "            trainable=True)\n",
    "\n",
    "    def call(self, inputs):\n",
    "        '''Defines the computation from inputs to outputs'''\n",
    "        return tf.matmul(inputs, self.w) + self.b"
   ]
  },
  {
   "cell_type": "code",
   "execution_count": 35,
   "id": "e83f8f28",
   "metadata": {},
   "outputs": [
    {
     "name": "stdout",
     "output_type": "stream",
     "text": [
      "[<tf.Variable 'simple_dense_8/kernel:0' shape=(1, 1) dtype=float32, numpy=array([[-0.05786064]], dtype=float32)>, <tf.Variable 'simple_dense_8/bias:0' shape=(1,) dtype=float32, numpy=array([0.], dtype=float32)>]\n"
     ]
    }
   ],
   "source": [
    "# declare an instance of the class\n",
    "my_dense = SimpleDense(units=1)\n",
    "\n",
    "# define an input and feed into the layer\n",
    "x = tf.ones((1, 1))\n",
    "y = my_dense(x)\n",
    "\n",
    "print(my_dense.variables)"
   ]
  },
  {
   "cell_type": "code",
   "execution_count": 36,
   "id": "791d1931",
   "metadata": {},
   "outputs": [
    {
     "name": "stdout",
     "output_type": "stream",
     "text": [
      "[[18.981445]]\n",
      "[<tf.Variable 'simple_dense_9/kernel:0' shape=(1, 1) dtype=float32, numpy=array([[1.9973109]], dtype=float32)>, <tf.Variable 'simple_dense_9/bias:0' shape=(1,) dtype=float32, numpy=array([-0.991663], dtype=float32)>]\n"
     ]
    }
   ],
   "source": [
    "# define the dataset\n",
    "xs = np.array([-1.0,  0.0, 1.0, 2.0, 3.0, 4.0], dtype=float)\n",
    "ys = np.array([-3.0, -1.0, 1.0, 3.0, 5.0, 7.0], dtype=float)\n",
    "\n",
    "\n",
    "# use the Sequential API to build a model with our custom layer\n",
    "my_layer = SimpleDense(units=1)\n",
    "model = tf.keras.Sequential([my_layer])\n",
    "\n",
    "# configure and train the model\n",
    "model.compile(optimizer='sgd', loss='mean_squared_error')\n",
    "model.fit(xs, ys, epochs=500,verbose=0)\n",
    "\n",
    "# perform inference\n",
    "print(model.predict([10.0]))\n",
    "\n",
    "# see the updated state of the variables\n",
    "print(my_layer.variables)"
   ]
  },
  {
   "cell_type": "code",
   "execution_count": 37,
   "id": "3dd57f9d",
   "metadata": {},
   "outputs": [],
   "source": [
    "# inherit from this base class\n",
    "from tensorflow.keras.layers import Layer\n",
    "\n",
    "class SimpleDense(Layer):\n",
    "\n",
    "    def __init__(self, units=32, activation=None):\n",
    "        '''Initializes the instance attributes'''\n",
    "        super(SimpleDense, self).__init__()\n",
    "        self.units = units\n",
    "        self.activation=tf.keras.activations.get(activation)\n",
    "\n",
    "    def build(self, input_shape):\n",
    "        '''Create the state of the layer (weights)'''\n",
    "        # initialize the weights\n",
    "        w_init = tf.random_normal_initializer()\n",
    "        self.w = tf.Variable(name=\"kernel\",\n",
    "            initial_value=w_init(shape=(input_shape[-1], self.units),\n",
    "                                 dtype='float32'),\n",
    "            trainable=True)\n",
    "\n",
    "        # initialize the biases\n",
    "        b_init = tf.zeros_initializer()\n",
    "        self.b = tf.Variable(name=\"bias\",\n",
    "            initial_value=b_init(shape=(self.units,), dtype='float32'),\n",
    "            trainable=True)\n",
    "\n",
    "    def call(self, inputs):\n",
    "        '''Defines the computation from inputs to outputs'''\n",
    "        return self.activation(tf.matmul(inputs, self.w) + self.b)"
   ]
  },
  {
   "cell_type": "code",
   "execution_count": 38,
   "id": "ccde108c",
   "metadata": {},
   "outputs": [],
   "source": [
    "model=tf.keras.models.Sequential([tf.keras.layers.Flatten(input_shape=(28,28)),\n",
    "                                  SimpleDense(128, activation='relu'),\n",
    "                                  tf.keras.layers.Lambda(custom_activation),\n",
    "                                  tf.keras.layers.Dense(10,activation='softmax')\n",
    "                                 ])"
   ]
  },
  {
   "cell_type": "code",
   "execution_count": 39,
   "id": "e523de2a",
   "metadata": {},
   "outputs": [
    {
     "name": "stdout",
     "output_type": "stream",
     "text": [
      "Epoch 1/5\n",
      "1875/1875 [==============================] - 2s 727us/step - loss: 0.2685 - accuracy: 0.9249\n",
      "Epoch 2/5\n",
      "1875/1875 [==============================] - 1s 720us/step - loss: 0.1167 - accuracy: 0.9652\n",
      "Epoch 3/5\n",
      "1875/1875 [==============================] - 1s 720us/step - loss: 0.0792 - accuracy: 0.9757\n",
      "Epoch 4/5\n",
      "1875/1875 [==============================] - 1s 749us/step - loss: 0.0584 - accuracy: 0.9816\n",
      "Epoch 5/5\n",
      "1875/1875 [==============================] - 1s 723us/step - loss: 0.0454 - accuracy: 0.9858\n",
      "313/313 [==============================] - 0s 550us/step - loss: 0.0793 - accuracy: 0.9748\n"
     ]
    },
    {
     "data": {
      "text/plain": [
       "[0.07934995740652084, 0.9747999906539917]"
      ]
     },
     "execution_count": 39,
     "metadata": {},
     "output_type": "execute_result"
    }
   ],
   "source": [
    "model.compile(optimizer='adam',\n",
    "             loss=\"sparse_categorical_crossentropy\",\n",
    "             metrics=['accuracy'])\n",
    "\n",
    "model.fit(x_train,y_train, epochs=5)\n",
    "model.evaluate(x_test,y_test)"
   ]
  },
  {
   "cell_type": "code",
   "execution_count": 40,
   "id": "91a37f7b",
   "metadata": {},
   "outputs": [],
   "source": [
    "### understanding Residual Network\n",
    "\n",
    "class CNNResidual(Layer):\n",
    "    \n",
    "    def __init__(self, layers,filters, **kwargs):\n",
    "        super.__init__(**kwargs)\n",
    "        self.hidden=[Conv2D(filters,(3,3), activation=\"relu\") for _ in range(layers)]\n",
    "        \n",
    "        \n",
    "    def call(self, inputs):\n",
    "        x=inputs\n",
    "        \n",
    "        for layers in self.hidden:\n",
    "            x=layer(x)\n",
    "            \n",
    "        return inputs+x\n",
    "    \n",
    "class DNNResidual(Layer):\n",
    "    \n",
    "    def __init__(self, neurons, **kwargs):\n",
    "        super.__init__(**kwargs)\n",
    "        self.hidden=[Dense(neurons, activation=\"relu\") for _ in range(layers)]\n",
    "        \n",
    "        \n",
    "    def call(self, inputs):\n",
    "        x=inputs\n",
    "        \n",
    "        for layers in self.hidden:\n",
    "            x=layer(x)\n",
    "            \n",
    "        return inputs+x\n",
    "    \n",
    "    \n",
    "    "
   ]
  },
  {
   "attachments": {
    "image.png": {
     "image/png": "[encoded data removed]"
    }
   },
   "cell_type": "markdown",
   "id": "652eb999",
   "metadata": {},
   "source": [
    "![image.png](attachment:image.png)"
   ]
  },
  {
   "cell_type": "code",
   "execution_count": 42,
   "id": "cec12366",
   "metadata": {},
   "outputs": [],
   "source": [
    "### Dense Neuron 30, activation relu\n",
    "## cnn residual 2,32\n",
    "## dnn residual 2,64\n",
    "## Dense neuron 1\n",
    "class MyResidual(tf.keras.Model):\n",
    "    \n",
    "    def __init__(self, **kwargs):\n",
    "        self.hidden1=Dense(30, activation=\"relu\")\n",
    "        \n",
    "        self.block1=self.CNNResidual(2,32)\n",
    "        self.block2=self.DNNResidual(2,64)\n",
    "        self.hidden2=Dense(1)\n",
    "        \n",
    "    def call(self, inputs):\n",
    "        x=self.hidden1()\n",
    "        \n",
    "        x=self.CNNResidual(x)\n",
    "        \n",
    "        for _ in range(1,4):\n",
    "            x=self.DNNResidual(x)\n",
    "        \n",
    "        x= self.hidden2(x)\n",
    "        \n",
    "        return x\n",
    "           \n",
    "        "
   ]
  },
  {
   "cell_type": "code",
   "execution_count": 43,
   "id": "3c91683f",
   "metadata": {},
   "outputs": [],
   "source": [
    "class IdentityBock(tf.keras.Model):\n",
    "    \n",
    "    def __int__(self, filters, kernal_size):\n",
    "        self.super(IdentityBock, self).__init__(name=\"\")\n",
    "        \n",
    "        self.conv=tf.keras.layers.Conv2D(filters, kernal_size, padding=\"same\")\n",
    "        self.bn=tf.keras.layers.BatchNormalization()\n",
    "        \n",
    "        self.act=tf.keras.layers.Activation('relu')\n",
    "        self.add=tf.keras.Add()\n",
    "        \n",
    "    def call(self, input_tensors):\n",
    "        \n",
    "        x=self.conv(x)\n",
    "        x=self.bn(x)\n",
    "        x=self.act(x)\n",
    "\n",
    "        x=self.conv(x)\n",
    "        x=self.bn(x)\n",
    "        x=self.act(x)\n",
    "\n",
    "        x=self.add([x, input_tensor])\n",
    "        \n",
    "        return x\n",
    "    \n",
    "    \n",
    "    \n",
    "    \n",
    "        \n",
    "        \n",
    "        \n",
    "        \n",
    "        \n",
    "        \n",
    "        \n",
    "        \n",
    "        \n",
    "        \n",
    "        \n",
    "        \n",
    "        \n",
    "        \n",
    "        \n",
    "        "
   ]
  },
  {
   "cell_type": "code",
   "execution_count": null,
   "id": "37002e02",
   "metadata": {},
   "outputs": [],
   "source": [
    "class ResNet(tf.keras.Model):\n",
    "    def __init__(self, number_of_classes):\n",
    "        \n",
    "        super( ResNet,self).__init__(name='')\n",
    "        \n",
    "        self.conv=tf.keras.layers.conv(64,7,paddings='same')\n",
    "        self.bn=tf.keras.layers.BatchNormalization()\n",
    "        self.act=tf.keras.layers.Activation('relu')\n",
    "        self.max_pool=tf.keras.layers.MaxPooling2D((3,3))\n",
    "        \n",
    "        self.idla=IdentityBock(64,3)\n",
    "        self.idlb=IdentityBock(64,3)\n",
    "        \n",
    "        \n",
    "        self.global_pool=tf.keras.layers.GlobalAveragePooling2D()\n",
    "        \n",
    "        self.classifier=Dense(number_of_classes,activations=\"relu\")\n",
    "        \n",
    "    def call(self, inputs):\n",
    "        \n",
    "        x=self.conv(inputs)\n",
    "        x=self.bn(x)\n",
    "        x=self.act(x)\n",
    "        \n",
    "        x=self.max_pool(x)\n",
    "        \n",
    "        x=self.idla(x)\n",
    "        x=self.idlb(x)\n",
    "        \n",
    "        \n",
    "        x=self.global_pool(x)\n",
    "        \n",
    "        return self.classifier(x)\n",
    "        \n",
    "        \n",
    "        \n",
    "        \n",
    "        \n",
    "        \n",
    "             "
   ]
  }
 ],
 "metadata": {
  "kernelspec": {
   "display_name": "Python 3",
   "language": "python",
   "name": "python3"
  },
  "language_info": {
   "codemirror_mode": {
    "name": "ipython",
    "version": 3
   },
   "file_extension": ".py",
   "mimetype": "text/x-python",
   "name": "python",
   "nbconvert_exporter": "python",
   "pygments_lexer": "ipython3",
   "version": "3.8.8"
  }
 },
 "nbformat": 4,
 "nbformat_minor": 5
}
