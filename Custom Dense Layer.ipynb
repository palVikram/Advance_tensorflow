{
 "cells": [
  {
   "cell_type": "code",
   "execution_count": 20,
   "id": "d4d69547",
   "metadata": {},
   "outputs": [
    {
     "name": "stdout",
     "output_type": "stream",
     "text": [
      "<tf.Variable 'simple_dense_8/Variable:0' shape=(2, 4) dtype=float32, numpy=\n",
      "array([[-0.01322944,  0.07132302,  0.03795496, -0.017215  ],\n",
      "       [-0.01627793,  0.01821852,  0.00647221,  0.07126114]],\n",
      "      dtype=float32)>\n"
     ]
    }
   ],
   "source": [
    "import tensorflow as tf\n",
    "from tensorflow.keras.layers import Layer\n",
    "\n",
    "class SimpleDense(Layer):\n",
    "\n",
    "  def __init__(self, units=32):\n",
    "      super(SimpleDense, self).__init__()\n",
    "      self.units = units\n",
    "\n",
    "  def build(self, input_shape):  # Create the state of the layer (weights)\n",
    "    w_init = tf.random_normal_initializer()\n",
    "    self.w = tf.Variable(initial_value=w_init(shape=(input_shape[-1], self.units),\n",
    "                             dtype='float32'),trainable=True)\n",
    "    print(self.w)\n",
    "    b_init = tf.zeros_initializer()\n",
    "    self.b = tf.Variable(\n",
    "        initial_value=b_init(shape=(self.units,), dtype='float32'),\n",
    "        trainable=True)\n",
    "\n",
    "  def call(self, inputs):  # Defines the computation from inputs to outputs\n",
    "      return tf.matmul(inputs, self.w) + self.b\n",
    "\n",
    "# Instantiates the layer.\n",
    "linear_layer = SimpleDense(4)\n",
    "\n",
    "# This will also call `build(input_shape)` and create the weights.\n",
    "y = linear_layer(tf.ones((2, 2)))\n",
    "assert len(linear_layer.weights) == 2\n",
    "\n",
    "# These weights are trainable, so they're listed in `trainable_weights`:\n",
    "assert len(linear_layer.trainable_weights) == 2"
   ]
  },
  {
   "cell_type": "code",
   "execution_count": 11,
   "id": "a26b96a8",
   "metadata": {},
   "outputs": [
    {
     "data": {
      "text/plain": [
       "[<tf.Variable 'simple_dense_7/Variable:0' shape=(2, 4) dtype=float32, numpy=\n",
       " array([[ 0.01977324, -0.00339817, -0.01866575,  0.02040433],\n",
       "        [ 0.04280616,  0.04252825, -0.01964222,  0.01605006]],\n",
       "       dtype=float32)>,\n",
       " <tf.Variable 'simple_dense_7/Variable:0' shape=(4,) dtype=float32, numpy=array([0., 0., 0., 0.], dtype=float32)>]"
      ]
     },
     "execution_count": 11,
     "metadata": {},
     "output_type": "execute_result"
    }
   ],
   "source": [
    "# Instantiates the layer.\n",
    "linear_layer = SimpleDense(4)\n",
    "y=linear_layer(tf.ones((2, 2)))\n",
    "linear_layer.weights"
   ]
  },
  {
   "cell_type": "code",
   "execution_count": 29,
   "id": "7e76e945",
   "metadata": {},
   "outputs": [
    {
     "data": {
      "text/plain": [
       "<tf.Variable 'Variable:0' shape=(3,) dtype=float32, numpy=array([ 4.6787677 , -2.6661477 ,  0.66852665], dtype=float32)>"
      ]
     },
     "execution_count": 29,
     "metadata": {},
     "output_type": "execute_result"
    }
   ],
   "source": [
    "tf.Variable(tf.random_normal_initializer(mean=0., stddev=2.)(shape=[3], dtype=tf.float32))"
   ]
  },
  {
   "cell_type": "code",
   "execution_count": 73,
   "id": "57e6550e",
   "metadata": {},
   "outputs": [],
   "source": [
    "class SimpleDense2(Layer):\n",
    "\n",
    "  def __init__(self, units=32):\n",
    "      super(SimpleDense2, self).__init__()\n",
    "      self.units = units\n",
    "\n",
    "  def build(self, input_shape):\n",
    "      print(input_shape[-1],self.units)\n",
    "      self.w = self.add_weight(shape=(input_shape[-1], self.units),\n",
    "                               initializer='random_normal',\n",
    "                               trainable=True)\n",
    "      self.b = self.add_weight(shape=(self.units,),\n",
    "                               initializer='zero',\n",
    "                               trainable=True)\n",
    "\n",
    "  def call(self, inputs):\n",
    "      return tf.matmul(inputs, self.w) + self.b"
   ]
  },
  {
   "cell_type": "code",
   "execution_count": 39,
   "id": "18e045a9",
   "metadata": {},
   "outputs": [
    {
     "name": "stdout",
     "output_type": "stream",
     "text": [
      "2 4\n"
     ]
    },
    {
     "data": {
      "text/plain": [
       "[<tf.Variable 'simple_dense_13/Variable:0' shape=(2, 4) dtype=float32, numpy=\n",
       " array([[-0.0273477 ,  0.01179164,  0.00472138, -0.06082397],\n",
       "        [-0.02626987,  0.04275491, -0.07079419,  0.05486948]],\n",
       "       dtype=float32)>,\n",
       " <tf.Variable 'simple_dense_13/Variable:0' shape=(4,) dtype=float32, numpy=array([0., 0., 0., 0.], dtype=float32)>]"
      ]
     },
     "execution_count": 39,
     "metadata": {},
     "output_type": "execute_result"
    }
   ],
   "source": [
    "# Instantiates the layer.\n",
    "linear_layer = SimpleDense(4)\n",
    "y=linear_layer(tf.ones((2, 2)))\n",
    "linear_layer.weights"
   ]
  },
  {
   "cell_type": "code",
   "execution_count": 40,
   "id": "207d760e",
   "metadata": {},
   "outputs": [],
   "source": [
    "mt=tf.constant([[2,3,3],[4,5,6]])"
   ]
  },
  {
   "cell_type": "code",
   "execution_count": 42,
   "id": "68636dd7",
   "metadata": {},
   "outputs": [
    {
     "data": {
      "text/plain": [
       "<tf.Tensor: shape=(), dtype=int32, numpy=23>"
      ]
     },
     "execution_count": 42,
     "metadata": {},
     "output_type": "execute_result"
    }
   ],
   "source": [
    "tf.reduce_sum(mt)"
   ]
  },
  {
   "cell_type": "code",
   "execution_count": 49,
   "id": "2fab1f0d",
   "metadata": {},
   "outputs": [
    {
     "data": {
      "text/plain": [
       "<tf.Variable 'UnreadVariable' shape=(2,) dtype=float32, numpy=array([2., 2.], dtype=float32)>"
      ]
     },
     "execution_count": 49,
     "metadata": {},
     "output_type": "execute_result"
    }
   ],
   "source": [
    " tf.Variable(initial_value=tf.zeros((2,)),trainable=False).assign_add(tf.reduce_sum(tf.ones((2, 2)), axis=0))"
   ]
  },
  {
   "cell_type": "code",
   "execution_count": 50,
   "id": "dd50569e",
   "metadata": {},
   "outputs": [
    {
     "name": "stdout",
     "output_type": "stream",
     "text": [
      "[2. 2.]\n",
      "[4. 4.]\n"
     ]
    }
   ],
   "source": [
    "class ComputeSum(Layer):\n",
    "\n",
    "  def __init__(self, input_dim):\n",
    "      super(ComputeSum, self).__init__()\n",
    "      # Create a non-trainable weight.\n",
    "      self.total = tf.Variable(initial_value=tf.zeros((input_dim,)),\n",
    "                               trainable=False)\n",
    "\n",
    "  def call(self, inputs):\n",
    "      self.total.assign_add(tf.reduce_sum(inputs, axis=0))\n",
    "      return self.total\n",
    "\n",
    "my_sum = ComputeSum(2)\n",
    "x = tf.ones((2, 2))\n",
    "\n",
    "y = my_sum(x)\n",
    "print(y.numpy())  # [2. 2.]\n",
    "\n",
    "y = my_sum(x)\n",
    "print(y.numpy())  # [4. 4.]\n",
    "\n",
    "assert my_sum.weights == [my_sum.total]\n",
    "assert my_sum.non_trainable_weights == [my_sum.total]\n",
    "assert my_sum.trainable_weights == []"
   ]
  },
  {
   "cell_type": "code",
   "execution_count": 52,
   "id": "f867def8",
   "metadata": {},
   "outputs": [
    {
     "data": {
      "text/plain": [
       "<tf.Tensor: shape=(1, 3), dtype=float32, numpy=array([[1., 2., 3.]], dtype=float32)>"
      ]
     },
     "execution_count": 52,
     "metadata": {},
     "output_type": "execute_result"
    }
   ],
   "source": [
    "tf.convert_to_tensor([[1., 2., 3.]])"
   ]
  },
  {
   "cell_type": "code",
   "execution_count": 60,
   "id": "9fa18e2e",
   "metadata": {},
   "outputs": [
    {
     "data": {
      "text/plain": [
       "<keras.layers.core.Dense at 0x2c55a122d90>"
      ]
     },
     "execution_count": 60,
     "metadata": {},
     "output_type": "execute_result"
    }
   ],
   "source": [
    "layer_a = tf.keras.layers.Dense(1,  kernel_initializer=tf.constant_initializer(1.))\n",
    "a_out = layer_a(tf.convert_to_tensor([[1., 2., 3.]]))\n",
    "layer_a"
   ]
  },
  {
   "cell_type": "code",
   "execution_count": 58,
   "id": "304b8422",
   "metadata": {},
   "outputs": [
    {
     "data": {
      "text/plain": [
       "<tf.Tensor: shape=(1, 1), dtype=float32, numpy=array([[6.]], dtype=float32)>"
      ]
     },
     "execution_count": 58,
     "metadata": {},
     "output_type": "execute_result"
    }
   ],
   "source": [
    "a_out"
   ]
  },
  {
   "cell_type": "code",
   "execution_count": 61,
   "id": "3d8919ee",
   "metadata": {},
   "outputs": [
    {
     "data": {
      "text/plain": [
       "[array([[2.],\n",
       "        [2.],\n",
       "        [2.]], dtype=float32),\n",
       " array([0.], dtype=float32)]"
      ]
     },
     "execution_count": 61,
     "metadata": {},
     "output_type": "execute_result"
    }
   ],
   "source": [
    "layer_b = tf.keras.layers.Dense(1, kernel_initializer=tf.constant_initializer(2.))\n",
    "\n",
    "b_out = layer_b(tf.convert_to_tensor([[10., 20., 30.]]))\n",
    "\n",
    "layer_b.get_weights()"
   ]
  },
  {
   "cell_type": "code",
   "execution_count": 63,
   "id": "239febc6",
   "metadata": {},
   "outputs": [
    {
     "data": {
      "text/plain": [
       "[array([[1.],\n",
       "        [1.],\n",
       "        [1.]], dtype=float32),\n",
       " array([0.], dtype=float32)]"
      ]
     },
     "execution_count": 63,
     "metadata": {},
     "output_type": "execute_result"
    }
   ],
   "source": [
    "layer_b.set_weights(layer_a.get_weights())\n",
    "layer_b.get_weights()"
   ]
  },
  {
   "cell_type": "code",
   "execution_count": 65,
   "id": "616371b7",
   "metadata": {},
   "outputs": [],
   "source": [
    "# define the dataset\n",
    "import numpy as np\n",
    "xs = np.array([-1.0,  0.0, 1.0, 2.0, 3.0, 4.0], dtype=float)\n",
    "ys = np.array([-3.0, -1.0, 1.0, 3.0, 5.0, 7.0], dtype=float)"
   ]
  },
  {
   "cell_type": "code",
   "execution_count": 74,
   "id": "24a25289",
   "metadata": {},
   "outputs": [
    {
     "name": "stdout",
     "output_type": "stream",
     "text": [
      "1 1\n"
     ]
    },
    {
     "data": {
      "text/plain": [
       "<keras.callbacks.History at 0x2c55e27a760>"
      ]
     },
     "execution_count": 74,
     "metadata": {},
     "output_type": "execute_result"
    }
   ],
   "source": [
    "model=tf.keras.models.Sequential([SimpleDense2(units=1)])\n",
    "\n",
    "model.compile(optimizer=\"sgd\",loss=\"mse\")\n",
    "model.fit(xs,ys, epochs=500, verbose=0)"
   ]
  },
  {
   "cell_type": "code",
   "execution_count": 75,
   "id": "bb412e75",
   "metadata": {},
   "outputs": [
    {
     "data": {
      "text/plain": [
       "array([[-2.9889789]], dtype=float32)"
      ]
     },
     "execution_count": 75,
     "metadata": {},
     "output_type": "execute_result"
    }
   ],
   "source": [
    "model.predict([-1])"
   ]
  },
  {
   "cell_type": "code",
   "execution_count": null,
   "id": "e1cf6bf5",
   "metadata": {},
   "outputs": [],
   "source": []
  }
 ],
 "metadata": {
  "kernelspec": {
   "display_name": "Python 3",
   "language": "python",
   "name": "python3"
  },
  "language_info": {
   "codemirror_mode": {
    "name": "ipython",
    "version": 3
   },
   "file_extension": ".py",
   "mimetype": "text/x-python",
   "name": "python",
   "nbconvert_exporter": "python",
   "pygments_lexer": "ipython3",
   "version": "3.8.8"
  }
 },
 "nbformat": 4,
 "nbformat_minor": 5
}
